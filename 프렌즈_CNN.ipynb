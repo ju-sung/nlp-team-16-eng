{
  "nbformat": 4,
  "nbformat_minor": 0,
  "metadata": {
    "colab": {
      "name": "프렌즈 CNN.ipynb",
      "provenance": [],
      "collapsed_sections": []
    },
    "kernelspec": {
      "name": "python3",
      "display_name": "Python 3"
    }
  },
  "cells": [
    {
      "cell_type": "code",
      "metadata": {
        "id": "R3vxrZ7MyU9o",
        "colab_type": "code",
        "colab": {
          "base_uri": "https://localhost:8080/",
          "height": 127
        },
        "outputId": "260b9ff8-261e-4463-8064-8bac4c4d90e7"
      },
      "source": [
        "import json\n",
        "import os\n",
        "import pandas as pd\n",
        "import numpy as np\n",
        "from google.colab import drive\n",
        "drive.mount('/content/gdrive')\n",
        "\n",
        "import shutil\n",
        "shutil.unpack_archive(\"/content/gdrive/My Drive/Colab Notebooks/EmotionLines_friends_annotation (7).tar.gz\", \"/content/gdrive/My Drive/Colab Notebooks/EmotionLines_friends_annotation (7)\")\n",
        "with open('/content/gdrive/My Drive/Colab Notebooks/EmotionLines_friends_annotation (7)/EmotionLines/Friends/friends_dev.json') as dev_file:\n",
        "      dev_data = json.load(dev_file)\n",
        "with open('/content/gdrive/My Drive/Colab Notebooks/EmotionLines_friends_annotation (7)/EmotionLines/Friends/friends_train.json') as train_file:\n",
        "      train_data = json.load(train_file)\n",
        "with open('/content/gdrive/My Drive/Colab Notebooks/EmotionLines_friends_annotation (7)/EmotionLines/Friends/friends_test.json') as test_file:\n",
        "      test_data = json.load(test_file)"
      ],
      "execution_count": null,
      "outputs": [
        {
          "output_type": "stream",
          "text": [
            "Go to this URL in a browser: https://accounts.google.com/o/oauth2/auth?client_id=947318989803-6bn6qk8qdgf4n4g3pfee6491hc0brc4i.apps.googleusercontent.com&redirect_uri=urn%3aietf%3awg%3aoauth%3a2.0%3aoob&response_type=code&scope=email%20https%3a%2f%2fwww.googleapis.com%2fauth%2fdocs.test%20https%3a%2f%2fwww.googleapis.com%2fauth%2fdrive%20https%3a%2f%2fwww.googleapis.com%2fauth%2fdrive.photos.readonly%20https%3a%2f%2fwww.googleapis.com%2fauth%2fpeopleapi.readonly\n",
            "\n",
            "Enter your authorization code:\n",
            "··········\n",
            "Mounted at /content/gdrive\n"
          ],
          "name": "stdout"
        }
      ]
    },
    {
      "cell_type": "code",
      "metadata": {
        "id": "l-7V67b3dVj9",
        "colab_type": "code",
        "colab": {
          "base_uri": "https://localhost:8080/",
          "height": 89
        },
        "outputId": "3b807799-8bf9-4d0c-d99d-a09627599a9f"
      },
      "source": [
        "import nltk\n",
        "import random\n",
        "from keras.preprocessing.text import Tokenizer\n",
        "from keras.preprocessing.sequence import pad_sequences\n",
        "nltk.download('punkt')\n"
      ],
      "execution_count": null,
      "outputs": [
        {
          "output_type": "stream",
          "text": [
            "Using TensorFlow backend.\n"
          ],
          "name": "stderr"
        },
        {
          "output_type": "stream",
          "text": [
            "[nltk_data] Downloading package punkt to /root/nltk_data...\n",
            "[nltk_data]   Unzipping tokenizers/punkt.zip.\n"
          ],
          "name": "stdout"
        },
        {
          "output_type": "execute_result",
          "data": {
            "text/plain": [
              "True"
            ]
          },
          "metadata": {
            "tags": []
          },
          "execution_count": 2
        }
      ]
    },
    {
      "cell_type": "code",
      "metadata": {
        "id": "FKZc_YcdbMvC",
        "colab_type": "code",
        "colab": {}
      },
      "source": [
        "def annotation(data) :\n",
        "    data_df_anno = []\n",
        "    for k in range(0,len(data)):\n",
        "      data_dfk = data[k]\n",
        "      for i in range(0,len(data_dfk)) :\n",
        "          data_df_anno.append(data_dfk[i]['annotation'])\n",
        "    data_anno = []\n",
        "    for i in data_df_anno :\n",
        "      data_anno.append(list(i))\n",
        "    return data_anno"
      ],
      "execution_count": null,
      "outputs": []
    },
    {
      "cell_type": "code",
      "metadata": {
        "id": "8Rxob-ainoON",
        "colab_type": "code",
        "colab": {}
      },
      "source": [
        "def data_df(data, a) :\n",
        "    data_df = []\n",
        "    for k in range(0,len(data)):\n",
        "      data_dfk = data[k]\n",
        "      for i in range(0,len(data_dfk)) :\n",
        "          data_df.append(data_dfk[i][a])\n",
        "    return data_df\n"
      ],
      "execution_count": null,
      "outputs": []
    },
    {
      "cell_type": "code",
      "metadata": {
        "id": "9CU7_HSsnpiF",
        "colab_type": "code",
        "colab": {}
      },
      "source": [
        "train_df_utter = data_df(train_data, 'utterance')\n",
        "dev_df_utter = data_df(dev_data, 'utterance')\n",
        "test_df_utter = data_df(test_data, 'utterance')\n",
        "\n",
        "train_df_emotion = data_df(train_data, 'emotion')\n",
        "dev_df_emotion = data_df(dev_data, 'emotion')\n",
        "test_df_emotion = data_df(test_data, 'emotion')\n",
        "\n",
        "train_df_annotation = annotation(train_data)\n",
        "dev_df_annotation = annotation(dev_data)\n",
        "test_df_annotation = annotation(test_data)\n",
        "\n"
      ],
      "execution_count": null,
      "outputs": []
    },
    {
      "cell_type": "code",
      "metadata": {
        "id": "BYs5DNpFb3gM",
        "colab_type": "code",
        "colab": {}
      },
      "source": [
        "y_train_anno = np.array(annotation(train_data))\n",
        "y_dev_anno = np.array(annotation(dev_data))\n",
        "y_test_anno = np.array(annotation(test_data))"
      ],
      "execution_count": null,
      "outputs": []
    },
    {
      "cell_type": "code",
      "metadata": {
        "id": "JACEAyhWq7Yd",
        "colab_type": "code",
        "colab": {}
      },
      "source": [
        "def counter(input_list):\n",
        "    word_count = {}\n",
        "    for word in input_list:\n",
        "        if word in  word_count:\n",
        "            word_count[word] += 1\n",
        "        else:\n",
        "            word_count[word] = 1\n",
        "    return word_count"
      ],
      "execution_count": null,
      "outputs": []
    },
    {
      "cell_type": "code",
      "metadata": {
        "id": "RCfnLpLxrJ4N",
        "colab_type": "code",
        "colab": {
          "base_uri": "https://localhost:8080/",
          "height": 161
        },
        "outputId": "7c6c3b00-7563-457b-aa0c-fff60ef80c8b"
      },
      "source": [
        "word_count = counter(test_df_emotion)\n",
        "word_count"
      ],
      "execution_count": null,
      "outputs": [
        {
          "output_type": "execute_result",
          "data": {
            "text/plain": [
              "{'anger': 161,\n",
              " 'disgust': 68,\n",
              " 'fear': 32,\n",
              " 'joy': 304,\n",
              " 'neutral': 1287,\n",
              " 'non-neutral': 541,\n",
              " 'sadness': 85,\n",
              " 'surprise': 286}"
            ]
          },
          "metadata": {
            "tags": []
          },
          "execution_count": 69
        }
      ]
    },
    {
      "cell_type": "code",
      "metadata": {
        "id": "PS1zEw61PVLQ",
        "colab_type": "code",
        "colab": {}
      },
      "source": [
        "import re\n",
        "def data_pre(data) :\n",
        "  max_seq_len = 0\n",
        "  sentences = []\n",
        "  for line in data:\n",
        "        if line.strip() == 0:\n",
        "          continue\n",
        "\n",
        "        sentence = ' '.join(line.split(' ')[1:])\n",
        "        tokenized_sentence = nltk.word_tokenize(sentence) #단어 단위 분리\n",
        "        max_seq_len = max(max_seq_len, len(tokenized_sentence))\n",
        "\n",
        "        sentences.append(sentence)\n",
        "  \n",
        "  letters_only = []\n",
        "  for i in sentences :\n",
        "    letter_only= re.sub('[^a-zA-Z]', ' ', i)\n",
        "\n",
        "    letters_only.append(letter_only)\n",
        "\n",
        "  lowers_case = []\n",
        "  for i in letters_only :\n",
        "      lower_case = i.lower()\n",
        "      \n",
        "      lowers_case.append(lower_case)\n",
        "  return lowers_case"
      ],
      "execution_count": null,
      "outputs": []
    },
    {
      "cell_type": "code",
      "metadata": {
        "id": "fu7ETwLpgCJe",
        "colab_type": "code",
        "colab": {}
      },
      "source": [
        "lowers =data_pre(train_df_utter)\n",
        "tokenizer = Tokenizer(num_words=5000, lower=True, char_level=False) #토크나이저 생성\n",
        "tokenizer.fit_on_texts(lowers)"
      ],
      "execution_count": null,
      "outputs": []
    },
    {
      "cell_type": "code",
      "metadata": {
        "id": "yXIw-VfPd20A",
        "colab_type": "code",
        "colab": {}
      },
      "source": [
        "TRAIN_SEQUENCES = tokenizer.texts_to_sequences(train_df_utter)\n",
        "dev_sequences = tokenizer.texts_to_sequences(dev_df_utter)\n",
        "test_sequences = tokenizer.texts_to_sequences(test_df_utter)"
      ],
      "execution_count": null,
      "outputs": []
    },
    {
      "cell_type": "code",
      "metadata": {
        "id": "hOPmOOau_I40",
        "colab_type": "code",
        "colab": {}
      },
      "source": [
        "TRAIN_SEQUENCES"
      ],
      "execution_count": null,
      "outputs": []
    },
    {
      "cell_type": "code",
      "metadata": {
        "id": "MKSzcU8NOepx",
        "colab_type": "code",
        "colab": {}
      },
      "source": [
        "train_len = []\n",
        "for i in range(0,len(train_data)) :\n",
        "  train_len.append(len(TRAIN_SEQUENCES[i]))"
      ],
      "execution_count": null,
      "outputs": []
    },
    {
      "cell_type": "code",
      "metadata": {
        "id": "F77yKRZHeka_",
        "colab_type": "code",
        "colab": {}
      },
      "source": [
        "from tensorflow.keras.preprocessing.sequence import pad_sequences\n",
        "MAX_SEQUENCE_LEN = max(train_len)\n",
        "x_train = pad_sequences(TRAIN_SEQUENCES,padding = \"post\" , maxlen=MAX_SEQUENCE_LEN)\n",
        "x_dev = pad_sequences(dev_sequences,padding = \"post\", maxlen=MAX_SEQUENCE_LEN)\n",
        "x_test= pad_sequences(test_sequences,padding = \"post\", maxlen=MAX_SEQUENCE_LEN)"
      ],
      "execution_count": null,
      "outputs": []
    },
    {
      "cell_type": "code",
      "metadata": {
        "id": "vuqctfF0P_To",
        "colab_type": "code",
        "colab": {}
      },
      "source": [
        "x_train"
      ],
      "execution_count": null,
      "outputs": []
    },
    {
      "cell_type": "code",
      "metadata": {
        "id": "rGYAOtOwes2D",
        "colab_type": "code",
        "colab": {}
      },
      "source": [
        "emotion = {'neutral':0, 'joy':1, 'sadness':2, 'fear':3, 'anger':4, 'surprise':5, 'disgust':6, 'non-neutral':7}\n",
        "\n",
        "def one_hot_encoding(word, word2index):\n",
        "       one_hot_vector = [0]*(len(word2index))\n",
        "       index=word2index[word]\n",
        "       one_hot_vector[index]=1\n",
        "       return one_hot_vector"
      ],
      "execution_count": null,
      "outputs": []
    },
    {
      "cell_type": "code",
      "metadata": {
        "id": "w9xcf4m5et_l",
        "colab_type": "code",
        "colab": {}
      },
      "source": [
        "y_train = []\n",
        "for i in train_df_emotion:\n",
        "  y_train.append(one_hot_encoding(i,emotion))\n",
        "y_train\n",
        "\n",
        "y_dev = []\n",
        "for i in dev_df_emotion:\n",
        "  y_dev.append(one_hot_encoding(i,emotion))\n",
        "y_dev\n",
        "\n",
        "y_test = []\n",
        "for i in test_df_emotion:\n",
        "  y_test.append(one_hot_encoding(i,emotion))\n",
        "y_test"
      ],
      "execution_count": null,
      "outputs": []
    },
    {
      "cell_type": "code",
      "metadata": {
        "id": "9jRtWwt85b6Y",
        "colab_type": "code",
        "colab": {}
      },
      "source": [
        "y_train_arr = np.array(y_train)\n",
        "y_dev_arr = np.array(y_dev)\n",
        "y_test_arr = np.array(y_test)"
      ],
      "execution_count": null,
      "outputs": []
    },
    {
      "cell_type": "code",
      "metadata": {
        "id": "FpD4_r7YfAPP",
        "colab_type": "code",
        "colab": {}
      },
      "source": [
        "y_train_arr"
      ],
      "execution_count": null,
      "outputs": []
    },
    {
      "cell_type": "code",
      "metadata": {
        "id": "DM5WPqIzfGXj",
        "colab_type": "code",
        "colab": {}
      },
      "source": [
        "import matplotlib.pyplot as plt\n",
        "plt.style.use('ggplot')\n",
        "\n",
        "def plot_history(history):\n",
        "    acc = history.history['accuracy']\n",
        "    val_acc = history.history['val_accuracy']\n",
        "    loss = history.history['loss']\n",
        "    val_loss = history.history['val_loss']\n",
        "    x = range(1, len(acc) + 1)\n",
        "\n",
        "    plt.figure(figsize=(12, 5))\n",
        "    plt.subplot(1, 2, 1)\n",
        "    plt.plot(x, acc, 'b', label='Training acc')\n",
        "    plt.plot(x, val_acc, 'r', label='Validation acc')\n",
        "    plt.title('Training and validation accuracy')\n",
        "    plt.legend()\n",
        "    plt.subplot(1, 2, 2)\n",
        "    plt.plot(x, loss, 'b', label='Training loss')\n",
        "    plt.plot(x, val_loss, 'r', label='Validation loss')\n",
        "    plt.title('Training and validation loss')\n",
        "    plt.legend()"
      ],
      "execution_count": null,
      "outputs": []
    },
    {
      "cell_type": "code",
      "metadata": {
        "id": "t68UageeguEJ",
        "colab_type": "code",
        "colab": {
          "base_uri": "https://localhost:8080/",
          "height": 467
        },
        "outputId": "2b61c4ed-48e3-410b-cdf5-6b94d682646d"
      },
      "source": [
        "#Glove 다운로드\n",
        "#출처: https://nlp.stanford.edu/projects/glove/\n",
        "!wget http://nlp.stanford.edu/data/glove.6B.zip\n",
        "!unzip glove*.zip\n"
      ],
      "execution_count": null,
      "outputs": [
        {
          "output_type": "stream",
          "text": [
            "--2020-06-29 04:57:40--  http://nlp.stanford.edu/data/glove.6B.zip\n",
            "Resolving nlp.stanford.edu (nlp.stanford.edu)... 171.64.67.140\n",
            "Connecting to nlp.stanford.edu (nlp.stanford.edu)|171.64.67.140|:80... connected.\n",
            "HTTP request sent, awaiting response... 302 Found\n",
            "Location: https://nlp.stanford.edu/data/glove.6B.zip [following]\n",
            "--2020-06-29 04:57:40--  https://nlp.stanford.edu/data/glove.6B.zip\n",
            "Connecting to nlp.stanford.edu (nlp.stanford.edu)|171.64.67.140|:443... connected.\n",
            "HTTP request sent, awaiting response... 301 Moved Permanently\n",
            "Location: http://downloads.cs.stanford.edu/nlp/data/glove.6B.zip [following]\n",
            "--2020-06-29 04:57:40--  http://downloads.cs.stanford.edu/nlp/data/glove.6B.zip\n",
            "Resolving downloads.cs.stanford.edu (downloads.cs.stanford.edu)... 171.64.64.22\n",
            "Connecting to downloads.cs.stanford.edu (downloads.cs.stanford.edu)|171.64.64.22|:80... connected.\n",
            "HTTP request sent, awaiting response... 200 OK\n",
            "Length: 862182613 (822M) [application/zip]\n",
            "Saving to: ‘glove.6B.zip’\n",
            "\n",
            "glove.6B.zip        100%[===================>] 822.24M  2.09MB/s    in 6m 27s  \n",
            "\n",
            "2020-06-29 05:04:07 (2.13 MB/s) - ‘glove.6B.zip’ saved [862182613/862182613]\n",
            "\n",
            "Archive:  glove.6B.zip\n",
            "  inflating: glove.6B.50d.txt        \n",
            "  inflating: glove.6B.100d.txt       \n",
            "  inflating: glove.6B.200d.txt       \n",
            "  inflating: glove.6B.300d.txt       \n"
          ],
          "name": "stdout"
        }
      ]
    },
    {
      "cell_type": "code",
      "metadata": {
        "id": "5TgaPVJ-gquE",
        "colab_type": "code",
        "colab": {}
      },
      "source": [
        "def create_embedding_matrix(filepath, word_index, embedding_dim):\n",
        "    vocab_size = len(word_index) + 1  # Adding again 1 because of reserved 0 index\n",
        "    embedding_matrix = np.zeros((vocab_size, embedding_dim))\n",
        "\n",
        "    with open(filepath) as f:\n",
        "        for line in f:\n",
        "            word, *vector = line.split()\n",
        "            if word in word_index:\n",
        "                idx = word_index[word] \n",
        "                embedding_matrix[idx] = np.array(\n",
        "                    vector, dtype=np.float32)[:embedding_dim]\n",
        "\n",
        "    return embedding_matrix\n",
        "\n",
        "EMBEDDING_DIM = 50 #100\n",
        "embedding_matrix = create_embedding_matrix(\n",
        "    './glove.6B.50d.txt',\n",
        "    tokenizer.word_index, EMBEDDING_DIM\n",
        "    )"
      ],
      "execution_count": null,
      "outputs": []
    },
    {
      "cell_type": "code",
      "metadata": {
        "id": "G1Xr0pP1jls1",
        "colab_type": "code",
        "colab": {}
      },
      "source": [
        "from tensorflow.keras.layers import Dense, Embedding\n",
        "from tensorflow.keras import Input, Model\n",
        "vocab_size = 5214\n",
        "max_len = max(train_len)\n",
        "sequence_input = Input(shape=(max_len,), dtype='int32')\n",
        "embedded_sequences = Embedding(vocab_size, 128, input_length=max_len)(sequence_input)\n"
      ],
      "execution_count": null,
      "outputs": []
    },
    {
      "cell_type": "code",
      "metadata": {
        "id": "387tgxhfXxMd",
        "colab_type": "code",
        "colab": {
          "base_uri": "https://localhost:8080/",
          "height": 1000
        },
        "outputId": "efb767cf-e25e-4435-83bf-fd9d346791e3"
      },
      "source": [
        "from keras.models import Sequential\n",
        "from keras import layers\n",
        "from keras.models import Model\n",
        "\n",
        "seq_input = layers.Input(shape=(MAX_SEQUENCE_LEN,), dtype='int32')\n",
        "vocab_size = 5214\n",
        "seq_embedded = layers.Embedding(vocab_size, \n",
        "                           EMBEDDING_DIM, \n",
        "                           weights=[embedding_matrix], \n",
        "                           input_length=MAX_SEQUENCE_LEN, \n",
        "                           trainable=True)(seq_input)\n",
        "\n",
        "filters = [2,3,4,5]\n",
        "conv_models = []\n",
        "for filter in filters:\n",
        "  conv_feat = layers.Conv1D(filters=100, \n",
        "                            kernel_size=filter, \n",
        "                            activation='relu',\n",
        "                            padding='valid')(seq_embedded) #Convolution Layer\n",
        "  pooled_feat = layers.GlobalMaxPooling1D()(conv_feat) #MaxPooling\n",
        "  conv_models.append(pooled_feat)\n",
        "\n",
        "conv_merged = layers.concatenate(conv_models, axis=1) #filter size가 2,3,4,5인 결과들 Concatenation\n",
        "\n",
        "model_output = layers.Dropout(0.2)(conv_merged)\n",
        "model_output = layers.Dense(10, activation='relu')(model_output)\n",
        "logits = layers.Dense(7, activation='softmax')(model_output)\n",
        "\n",
        "model = Model(seq_input, logits) #(입력,출력)\n",
        "model.compile(optimizer='adam',\n",
        "              loss='binary_crossentropy',\n",
        "              metrics=['accuracy'])\n",
        "model.summary()\n",
        "\n",
        "#학습 시작\n",
        "history = model.fit(x_train, y_train_anno,\n",
        "                    epochs=10,\n",
        "                    verbose=True,\n",
        "                    validation_data=(x_dev, y_dev_anno),\n",
        "                    batch_size=128)\n",
        "# 결과 시각화\n",
        "plot_history(history)"
      ],
      "execution_count": null,
      "outputs": [
        {
          "output_type": "stream",
          "text": [
            "Model: \"model_2\"\n",
            "__________________________________________________________________________________________________\n",
            "Layer (type)                    Output Shape         Param #     Connected to                     \n",
            "==================================================================================================\n",
            "input_4 (InputLayer)            (None, 36)           0                                            \n",
            "__________________________________________________________________________________________________\n",
            "embedding_2 (Embedding)         (None, 36, 50)       260700      input_4[0][0]                    \n",
            "__________________________________________________________________________________________________\n",
            "conv1d_5 (Conv1D)               (None, 35, 100)      10100       embedding_2[0][0]                \n",
            "__________________________________________________________________________________________________\n",
            "conv1d_6 (Conv1D)               (None, 34, 100)      15100       embedding_2[0][0]                \n",
            "__________________________________________________________________________________________________\n",
            "conv1d_7 (Conv1D)               (None, 33, 100)      20100       embedding_2[0][0]                \n",
            "__________________________________________________________________________________________________\n",
            "conv1d_8 (Conv1D)               (None, 32, 100)      25100       embedding_2[0][0]                \n",
            "__________________________________________________________________________________________________\n",
            "global_max_pooling1d_5 (GlobalM (None, 100)          0           conv1d_5[0][0]                   \n",
            "__________________________________________________________________________________________________\n",
            "global_max_pooling1d_6 (GlobalM (None, 100)          0           conv1d_6[0][0]                   \n",
            "__________________________________________________________________________________________________\n",
            "global_max_pooling1d_7 (GlobalM (None, 100)          0           conv1d_7[0][0]                   \n",
            "__________________________________________________________________________________________________\n",
            "global_max_pooling1d_8 (GlobalM (None, 100)          0           conv1d_8[0][0]                   \n",
            "__________________________________________________________________________________________________\n",
            "concatenate_2 (Concatenate)     (None, 400)          0           global_max_pooling1d_5[0][0]     \n",
            "                                                                 global_max_pooling1d_6[0][0]     \n",
            "                                                                 global_max_pooling1d_7[0][0]     \n",
            "                                                                 global_max_pooling1d_8[0][0]     \n",
            "__________________________________________________________________________________________________\n",
            "dropout_2 (Dropout)             (None, 400)          0           concatenate_2[0][0]              \n",
            "__________________________________________________________________________________________________\n",
            "dense_3 (Dense)                 (None, 10)           4010        dropout_2[0][0]                  \n",
            "__________________________________________________________________________________________________\n",
            "dense_4 (Dense)                 (None, 7)            77          dense_3[0][0]                    \n",
            "==================================================================================================\n",
            "Total params: 335,187\n",
            "Trainable params: 335,187\n",
            "Non-trainable params: 0\n",
            "__________________________________________________________________________________________________\n"
          ],
          "name": "stdout"
        },
        {
          "output_type": "stream",
          "text": [
            "/usr/local/lib/python3.6/dist-packages/tensorflow/python/framework/indexed_slices.py:434: UserWarning: Converting sparse IndexedSlices to a dense Tensor of unknown shape. This may consume a large amount of memory.\n",
            "  \"Converting sparse IndexedSlices to a dense Tensor of unknown shape. \"\n"
          ],
          "name": "stderr"
        },
        {
          "output_type": "stream",
          "text": [
            "Train on 10561 samples, validate on 1178 samples\n",
            "Epoch 1/10\n",
            "10561/10561 [==============================] - 6s 571us/step - loss: 1.0491 - accuracy: 0.6782 - val_loss: 1.0125 - val_accuracy: 0.6811\n",
            "Epoch 2/10\n",
            "10561/10561 [==============================] - 6s 537us/step - loss: 0.8848 - accuracy: 0.6793 - val_loss: 0.9390 - val_accuracy: 0.6824\n",
            "Epoch 3/10\n",
            "10561/10561 [==============================] - 6s 540us/step - loss: 0.7668 - accuracy: 0.6806 - val_loss: 0.9019 - val_accuracy: 0.6841\n",
            "Epoch 4/10\n",
            "10561/10561 [==============================] - 6s 541us/step - loss: 0.6301 - accuracy: 0.6816 - val_loss: 0.8657 - val_accuracy: 0.6842\n",
            "Epoch 5/10\n",
            "10561/10561 [==============================] - 6s 544us/step - loss: 0.4435 - accuracy: 0.6816 - val_loss: 0.8703 - val_accuracy: 0.6852\n",
            "Epoch 6/10\n",
            "10561/10561 [==============================] - 6s 538us/step - loss: 0.2448 - accuracy: 0.6817 - val_loss: 0.9113 - val_accuracy: 0.6858\n",
            "Epoch 7/10\n",
            "10561/10561 [==============================] - 6s 543us/step - loss: 0.0591 - accuracy: 0.6825 - val_loss: 0.9361 - val_accuracy: 0.6854\n",
            "Epoch 8/10\n",
            "10561/10561 [==============================] - 6s 540us/step - loss: -0.1061 - accuracy: 0.6827 - val_loss: 0.9470 - val_accuracy: 0.6841\n",
            "Epoch 9/10\n",
            "10561/10561 [==============================] - 6s 543us/step - loss: -0.2672 - accuracy: 0.6830 - val_loss: 1.1177 - val_accuracy: 0.6847\n",
            "Epoch 10/10\n",
            "10561/10561 [==============================] - 6s 548us/step - loss: -0.3816 - accuracy: 0.6830 - val_loss: 0.9926 - val_accuracy: 0.6847\n"
          ],
          "name": "stdout"
        },
        {
          "output_type": "display_data",
          "data": {
            "image/png": "[encoded data removed]",
            "text/plain": [
              "<Figure size 864x360 with 2 Axes>"
            ]
          },
          "metadata": {
            "tags": []
          }
        }
      ]
    },
    {
      "cell_type": "code",
      "metadata": {
        "id": "btEFc2fCryes",
        "colab_type": "code",
        "colab": {
          "base_uri": "https://localhost:8080/",
          "height": 53
        },
        "outputId": "898d5241-cc5b-491d-921d-27cff8d57c55"
      },
      "source": [
        "y_anno_pred= model.predict(x_test)\n",
        "y_anno_pred[59]"
      ],
      "execution_count": null,
      "outputs": [
        {
          "output_type": "execute_result",
          "data": {
            "text/plain": [
              "array([0.8820711 , 0.01678245, 0.03519383, 0.01210078, 0.02380187,\n",
              "       0.01617691, 0.01387315], dtype=float32)"
            ]
          },
          "metadata": {
            "tags": []
          },
          "execution_count": 24
        }
      ]
    },
    {
      "cell_type": "code",
      "metadata": {
        "id": "-Q6lIN3YRt3H",
        "colab_type": "code",
        "colab": {
          "base_uri": "https://localhost:8080/",
          "height": 35
        },
        "outputId": "90c011c2-2b52-432e-ab0e-03ec23fcee4d"
      },
      "source": [
        "y_test[59]"
      ],
      "execution_count": null,
      "outputs": [
        {
          "output_type": "execute_result",
          "data": {
            "text/plain": [
              "[1, 0, 0, 0, 0, 0, 0, 0]"
            ]
          },
          "metadata": {
            "tags": []
          },
          "execution_count": 94
        }
      ]
    },
    {
      "cell_type": "code",
      "metadata": {
        "id": "b5kvfYK581rf",
        "colab_type": "code",
        "colab": {
          "base_uri": "https://localhost:8080/",
          "height": 35
        },
        "outputId": "6e21137e-5f2b-4134-bdfc-ac1334c57797"
      },
      "source": [
        "max(y_anno_pred[59])"
      ],
      "execution_count": null,
      "outputs": [
        {
          "output_type": "execute_result",
          "data": {
            "text/plain": [
              "0.6635466"
            ]
          },
          "metadata": {
            "tags": []
          },
          "execution_count": 93
        }
      ]
    },
    {
      "cell_type": "code",
      "metadata": {
        "id": "hGZ4dc5C9EbB",
        "colab_type": "code",
        "colab": {}
      },
      "source": [
        "y_pred2 = []\n",
        "for i in range(0,len(y_anno_pred)):\n",
        " if max(y_anno_pred[i]) >= 0.3 :\n",
        "    for k in range(0,len(y_anno_pred[0])) :\n",
        "      if y_anno_pred[i][k] == max(y_anno_pred[i]) :\n",
        "         one_hot_vector = [0]*8\n",
        "         one_hot_vector[k]=1\n",
        "         y_pred2.append(one_hot_vector)\n",
        " else :\n",
        "    one_hot_vector = [0]*8\n",
        "    one_hot_vector[7] = 1\n",
        "    y_pred2.append(one_hot_vector)\n",
        "\n",
        "        "
      ],
      "execution_count": null,
      "outputs": []
    },
    {
      "cell_type": "code",
      "metadata": {
        "id": "pnqxh0J0CBve",
        "colab_type": "code",
        "colab": {}
      },
      "source": [
        "y_test"
      ],
      "execution_count": null,
      "outputs": []
    },
    {
      "cell_type": "code",
      "metadata": {
        "id": "eKwe9UTdBUl1",
        "colab_type": "code",
        "colab": {}
      },
      "source": [
        "y_pred2"
      ],
      "execution_count": null,
      "outputs": []
    },
    {
      "cell_type": "code",
      "metadata": {
        "id": "9vw4DYUg9SQI",
        "colab_type": "code",
        "colab": {
          "base_uri": "https://localhost:8080/",
          "height": 35
        },
        "outputId": "5b191b50-8ccd-4dc9-9ab9-4ed5d6522112"
      },
      "source": [
        "from sklearn.metrics import f1_score\n",
        "f1_score(y_pred2,y_test,average='micro')"
      ],
      "execution_count": null,
      "outputs": [
        {
          "output_type": "execute_result",
          "data": {
            "text/plain": [
              "0.48878437047756873"
            ]
          },
          "metadata": {
            "tags": []
          },
          "execution_count": 46
        }
      ]
    },
    {
      "cell_type": "code",
      "metadata": {
        "id": "rK3OxMg5cfJZ",
        "colab_type": "code",
        "colab": {}
      },
      "source": [
        "y_pred_num = []\n",
        "for l in y_tran_pred :\n",
        " count = 0\n",
        " for k in l :\n",
        "   if k != max(l) :\n",
        "     count += 1\n",
        "   else :\n",
        "     y_pred_num.append(count)\n",
        "\n",
        "one_hot_vector = []\n",
        "y_pred3 = []\n",
        "for i in y_pred_num :\n",
        "  one_hot_vector = [0]*8\n",
        "  one_hot_vector[i]=1\n",
        "  y_pred3.append(one_hot_vector)"
      ],
      "execution_count": null,
      "outputs": []
    },
    {
      "cell_type": "code",
      "metadata": {
        "id": "3MOb86LvcfHm",
        "colab_type": "code",
        "colab": {}
      },
      "source": [
        ""
      ],
      "execution_count": null,
      "outputs": []
    },
    {
      "cell_type": "code",
      "metadata": {
        "id": "lWrOHR9KcfCn",
        "colab_type": "code",
        "colab": {}
      },
      "source": [
        ""
      ],
      "execution_count": null,
      "outputs": []
    },
    {
      "cell_type": "code",
      "metadata": {
        "id": "rx1S68llcfA9",
        "colab_type": "code",
        "colab": {}
      },
      "source": [
        ""
      ],
      "execution_count": null,
      "outputs": []
    },
    {
      "cell_type": "code",
      "metadata": {
        "id": "juFHMOaVce-e",
        "colab_type": "code",
        "colab": {}
      },
      "source": [
        ""
      ],
      "execution_count": null,
      "outputs": []
    },
    {
      "cell_type": "code",
      "metadata": {
        "id": "lNQXlt_Zce7d",
        "colab_type": "code",
        "colab": {}
      },
      "source": [
        ""
      ],
      "execution_count": null,
      "outputs": []
    },
    {
      "cell_type": "code",
      "metadata": {
        "id": "tlVIR1PQce6A",
        "colab_type": "code",
        "colab": {}
      },
      "source": [
        ""
      ],
      "execution_count": null,
      "outputs": []
    },
    {
      "cell_type": "code",
      "metadata": {
        "id": "mYH--xW6ce0m",
        "colab_type": "code",
        "colab": {}
      },
      "source": [
        ""
      ],
      "execution_count": null,
      "outputs": []
    }
  ]
}